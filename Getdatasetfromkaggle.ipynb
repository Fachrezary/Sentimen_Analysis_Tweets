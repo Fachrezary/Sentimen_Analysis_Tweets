{
 "cells": [
  {
   "cell_type": "markdown",
   "id": "659b54f9",
   "metadata": {},
   "source": [
    "# Inisialisasi Download Dataset From Kaggle dengan Python"
   ]
  },
  {
   "cell_type": "markdown",
   "id": "69ef93d1",
   "metadata": {},
   "source": [
    "## Fachreza Riyanda - Proyek Sentimen Analisis"
   ]
  },
  {
   "cell_type": "code",
   "execution_count": 5,
   "id": "896d153a",
   "metadata": {},
   "outputs": [
    {
     "name": "stdout",
     "output_type": "stream",
     "text": [
      "Defaulting to user installation because normal site-packages is not writeable\n",
      "Requirement already satisfied: kaggle in c:\\users\\hp\\appdata\\roaming\\python\\python39\\site-packages (1.6.14)\n",
      "Requirement already satisfied: certifi>=2023.7.22 in c:\\users\\hp\\appdata\\roaming\\python\\python39\\site-packages (from kaggle) (2024.7.4)\n",
      "Requirement already satisfied: bleach in c:\\programdata\\anaconda3\\lib\\site-packages (from kaggle) (4.1.0)\n",
      "Requirement already satisfied: requests in c:\\programdata\\anaconda3\\lib\\site-packages (from kaggle) (2.28.1)\n",
      "Requirement already satisfied: tqdm in c:\\programdata\\anaconda3\\lib\\site-packages (from kaggle) (4.64.1)\n",
      "Requirement already satisfied: urllib3 in c:\\programdata\\anaconda3\\lib\\site-packages (from kaggle) (1.26.11)\n",
      "Requirement already satisfied: python-slugify in c:\\programdata\\anaconda3\\lib\\site-packages (from kaggle) (5.0.2)\n",
      "Requirement already satisfied: six>=1.10 in c:\\programdata\\anaconda3\\lib\\site-packages (from kaggle) (1.16.0)\n",
      "Requirement already satisfied: python-dateutil in c:\\programdata\\anaconda3\\lib\\site-packages (from kaggle) (2.8.2)\n",
      "Requirement already satisfied: webencodings in c:\\programdata\\anaconda3\\lib\\site-packages (from bleach->kaggle) (0.5.1)\n",
      "Requirement already satisfied: packaging in c:\\programdata\\anaconda3\\lib\\site-packages (from bleach->kaggle) (21.3)\n",
      "Requirement already satisfied: text-unidecode>=1.3 in c:\\programdata\\anaconda3\\lib\\site-packages (from python-slugify->kaggle) (1.3)\n",
      "Requirement already satisfied: idna<4,>=2.5 in c:\\programdata\\anaconda3\\lib\\site-packages (from requests->kaggle) (3.3)\n",
      "Requirement already satisfied: charset-normalizer<3,>=2 in c:\\programdata\\anaconda3\\lib\\site-packages (from requests->kaggle) (2.0.4)\n",
      "Requirement already satisfied: colorama in c:\\programdata\\anaconda3\\lib\\site-packages (from tqdm->kaggle) (0.4.5)\n",
      "Requirement already satisfied: pyparsing!=3.0.5,>=2.0.2 in c:\\programdata\\anaconda3\\lib\\site-packages (from packaging->bleach->kaggle) (3.0.9)\n",
      "Note: you may need to restart the kernel to use updated packages.\n"
     ]
    }
   ],
   "source": [
    "pip install kaggle"
   ]
  },
  {
   "cell_type": "code",
   "execution_count": 3,
   "id": "f128a38d",
   "metadata": {},
   "outputs": [
    {
     "name": "stdout",
     "output_type": "stream",
     "text": [
      "Dataset URL: https://www.kaggle.com/datasets/gargmanas/sentimental-analysis-for-tweets\n",
      "Dataset disimpan ke sentimental_analysis_tweets.csv\n"
     ]
    }
   ],
   "source": [
    "import os\n",
    "from kaggle.api.kaggle_api_extended import KaggleApi\n",
    "import pandas as pd\n",
    "\n",
    "def download_kaggle_dataset(dataset_id, download_path):\n",
    "    # Inisialisasi Kaggle API\n",
    "    api = KaggleApi()\n",
    "    api.authenticate()\n",
    "    \n",
    "    # Unduh file dataset\n",
    "    api.dataset_download_files(dataset_id, path=download_path, unzip=True)\n",
    "\n",
    "def find_csv_file(download_path):\n",
    "    # Mencari file CSV dalam direktori yang diunduh\n",
    "    for root, dirs, files in os.walk(download_path):\n",
    "        for file in files:\n",
    "            if file.endswith('.csv'):\n",
    "                return os.path.join(root, file)\n",
    "    return None\n",
    "\n",
    "def main():\n",
    "    # ID dataset di Kaggle\n",
    "    dataset_id = 'gargmanas/sentimental-analysis-for-tweets'\n",
    "    \n",
    "    # Direktori untuk menyimpan dataset\n",
    "    download_path = 'kaggle_dataset'\n",
    "    \n",
    "    # Buat direktori jika belum ada\n",
    "    if not os.path.exists(download_path):\n",
    "        os.makedirs(download_path)\n",
    "    \n",
    "    # Unduh dataset\n",
    "    download_kaggle_dataset(dataset_id, download_path)\n",
    "    \n",
    "    # Cari file CSV yang diunduh\n",
    "    csv_file = find_csv_file(download_path)\n",
    "    \n",
    "    if csv_file:\n",
    "        # Baca dataset ke dalam DataFrame pandas\n",
    "        df = pd.read_csv(csv_file)\n",
    "        \n",
    "        # Simpan DataFrame ke file CSV\n",
    "        output_csv = 'sentimental_analysis_tweets.csv'\n",
    "        df.to_csv(output_csv, index=False)\n",
    "        print(f\"Dataset disimpan ke {output_csv}\")\n",
    "    else:\n",
    "        print(\"File CSV tidak ditemukan dalam dataset.\")\n",
    "\n",
    "if __name__ == \"__main__\":\n",
    "    main()\n"
   ]
  }
 ],
 "metadata": {
  "kernelspec": {
   "display_name": "Python 3 (ipykernel)",
   "language": "python",
   "name": "python3"
  },
  "language_info": {
   "codemirror_mode": {
    "name": "ipython",
    "version": 3
   },
   "file_extension": ".py",
   "mimetype": "text/x-python",
   "name": "python",
   "nbconvert_exporter": "python",
   "pygments_lexer": "ipython3",
   "version": "3.9.13"
  }
 },
 "nbformat": 4,
 "nbformat_minor": 5
}
